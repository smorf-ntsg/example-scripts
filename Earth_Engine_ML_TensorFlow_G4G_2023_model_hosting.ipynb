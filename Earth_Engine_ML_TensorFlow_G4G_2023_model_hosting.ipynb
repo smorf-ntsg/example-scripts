{
  "nbformat": 4,
  "nbformat_minor": 0,
  "metadata": {
    "colab": {
      "provenance": [],
      "include_colab_link": true
    },
    "kernelspec": {
      "name": "python3",
      "display_name": "Python 3"
    },
    "language_info": {
      "name": "python"
    }
  },
  "cells": [
    {
      "cell_type": "markdown",
      "metadata": {
        "id": "view-in-github",
        "colab_type": "text"
      },
      "source": [
        "<a href=\"https://colab.research.google.com/github/smorf-ntsg/example-scripts/blob/master/Earth_Engine_ML_TensorFlow_G4G_2023_model_hosting.ipynb\" target=\"_parent\"><img src=\"https://colab.research.google.com/assets/colab-badge.svg\" alt=\"Open In Colab\"/></a>"
      ]
    },
    {
      "cell_type": "markdown",
      "source": [
        "# Earth Engine Neural Networks 2.3: Model Hosting on Vertex AI\n",
        "\n",
        "Welcome to Geo for Good 2023 Neural Networks 2.3!  Following the model training in Neural Networks 2.2, this notebook demonstrates hosting a model on Vertex AI and connecting to it from Earth Engine."
      ],
      "metadata": {
        "id": "TM8xKzGZ7Inm"
      }
    },
    {
      "cell_type": "code",
      "source": [
        "from google.colab import auth\n",
        "import google\n",
        "import ee\n",
        "from tensorflow import keras\n",
        "import tensorflow as tf"
      ],
      "metadata": {
        "id": "vR-03kgv9fha"
      },
      "execution_count": null,
      "outputs": []
    },
    {
      "cell_type": "code",
      "source": [
        "PROJECT = 'YOUR-PROJECT'\n",
        "BUCKET = 'YOUR-BUCKET'"
      ],
      "metadata": {
        "id": "IN0qXelb9WBY"
      },
      "execution_count": null,
      "outputs": []
    },
    {
      "cell_type": "code",
      "source": [
        "auth.authenticate_user()\n",
        "credentials, _ = google.auth.default()\n",
        "ee.Initialize(credentials, project=PROJECT, opt_url='https://earthengine-highvolume.googleapis.com')"
      ],
      "metadata": {
        "id": "uMhwrQu5KRpQ"
      },
      "execution_count": null,
      "outputs": []
    },
    {
      "cell_type": "code",
      "source": [
        "REGION = 'us-central1'\n",
        "TRAINED_MODEL_DIR = 'gs://ee-docs-demos/g4g-2023-nn/trained-model'\n",
        "MODEL_DIR = f'gs://{BUCKET}/trained-model-eeified'\n",
        "INPUT_BANDS = ['B1', 'B2', 'B3', 'B4', 'B5', 'B6', 'B7',\n",
        "          'B8', 'B8A', 'B9', 'B11', 'B12']\n",
        "MODEL_NAME = 'g4g-2023-model'\n",
        "ENDPOINT_NAME = 'g4g-2023-endpoint'\n",
        "CONTAINER_IMAGE = 'us-docker.pkg.dev/vertex-ai/prediction/tf2-cpu.2-11:latest'\n",
        "ATTRIBUTION = 'Map Data © Google Earth Engine'"
      ],
      "metadata": {
        "id": "q8Ch3UjslrrW"
      },
      "execution_count": null,
      "outputs": []
    },
    {
      "cell_type": "code",
      "source": [
        "trained_model = keras.models.load_model(TRAINED_MODEL_DIR)"
      ],
      "metadata": {
        "id": "m_WZ5lASnKY9"
      },
      "execution_count": null,
      "outputs": []
    },
    {
      "cell_type": "markdown",
      "source": [
        "## de/serialization\n",
        "\n",
        "Vertex AI online prediction expects `base64` encoded inputs and returns `base64` encoded outputs."
      ],
      "metadata": {
        "id": "-qcHeV0XJqAb"
      }
    },
    {
      "cell_type": "code",
      "source": [
        "class DeserlializeInput(tf.keras.layers.Layer):\n",
        "  def __init__(self, **kwargs):\n",
        "    super().__init__(**kwargs)\n",
        "\n",
        "  def call(self, inputs_dict):\n",
        "    return {\n",
        "      k: tf.map_fn(lambda x: tf.io.parse_tensor(x, tf.float32),\n",
        "                   tf.io.decode_base64(v),\n",
        "                   fn_output_signature=tf.float32)\n",
        "        for (k, v) in inputs_dict.items()\n",
        "    }\n",
        "\n",
        "  def get_config(self):\n",
        "    config = super().get_config()\n",
        "    return config\n",
        "\n",
        "\n",
        "class ReserlializeOutput(tf.keras.layers.Layer):\n",
        "  def __init__(self, **kwargs):\n",
        "    super().__init__(**kwargs)\n",
        "\n",
        "  def call(self, output_tensor, name):\n",
        "    return {name: tf.identity(tf.map_fn(\n",
        "        lambda x: tf.io.encode_base64(tf.io.serialize_tensor(x)),\n",
        "        output_tensor,\n",
        "        fn_output_signature=tf.string),\n",
        "                       name=name)}\n",
        "\n",
        "  def get_config(self):\n",
        "    config = super().get_config()\n",
        "    return config\n",
        "\n",
        "\n",
        "input_deserializer = DeserlializeInput()\n",
        "output_deserilaizer = ReserlializeOutput()\n",
        "\n",
        "serlialized_inputs = {\n",
        "    b: tf.keras.Input(shape=[], dtype='string', name=b) for b in INPUT_BANDS}\n",
        "\n",
        "updated_model_input = input_deserializer(serlialized_inputs)\n",
        "updated_model = trained_model(updated_model_input)\n",
        "updated_model = output_deserilaizer(updated_model, 'probability')\n",
        "updated_model= tf.keras.Model(serlialized_inputs, updated_model)"
      ],
      "metadata": {
        "id": "jUl18ZhY_3SH"
      },
      "execution_count": null,
      "outputs": []
    },
    {
      "cell_type": "code",
      "source": [
        "tf.keras.utils.plot_model(updated_model)"
      ],
      "metadata": {
        "id": "0QDrDa8BAOUP"
      },
      "execution_count": null,
      "outputs": []
    },
    {
      "cell_type": "markdown",
      "source": [
        "## Save the trained model"
      ],
      "metadata": {
        "id": "3EIEoC7ZxI9m"
      }
    },
    {
      "cell_type": "code",
      "source": [
        "updated_model.save(MODEL_DIR)"
      ],
      "metadata": {
        "id": "FrSL1Mt3xK7L"
      },
      "execution_count": null,
      "outputs": []
    },
    {
      "cell_type": "markdown",
      "source": [
        "## Host the trained model"
      ],
      "metadata": {
        "id": "EVEE3jxEqu1K"
      }
    },
    {
      "cell_type": "code",
      "source": [
        "!gcloud ai models upload \\\n",
        "  --artifact-uri={MODEL_DIR} \\\n",
        "  --project={PROJECT} \\\n",
        "  --region={REGION} \\\n",
        "  --container-image-uri={CONTAINER_IMAGE} \\\n",
        "  --description={MODEL_NAME} \\\n",
        "  --display-name={MODEL_NAME} \\\n",
        "  --model-id={MODEL_NAME}"
      ],
      "metadata": {
        "id": "3iXWZEpEqo-O"
      },
      "execution_count": null,
      "outputs": []
    },
    {
      "cell_type": "code",
      "source": [
        "!gcloud ai endpoints create \\\n",
        "  --display-name={ENDPOINT_NAME} \\\n",
        "  --region={REGION} \\\n",
        "  --project={PROJECT}"
      ],
      "metadata": {
        "id": "ggn7HgQovDk_"
      },
      "execution_count": null,
      "outputs": []
    },
    {
      "cell_type": "code",
      "source": [
        "ENDPOINT_ID = !gcloud ai endpoints list \\\n",
        "  --project={PROJECT} \\\n",
        "  --region={REGION} \\\n",
        "  --filter=displayName:{ENDPOINT_NAME} \\\n",
        "  --format=\"value(ENDPOINT_ID.scope())\"\n",
        "ENDPOINT_ID = ENDPOINT_ID[-1]\n",
        "print(ENDPOINT_ID)\n",
        "\n",
        "!gcloud ai endpoints deploy-model {ENDPOINT_ID} \\\n",
        "  --project={PROJECT} \\\n",
        "  --region={REGION} \\\n",
        "  --model={MODEL_NAME} \\\n",
        "  --display-name={MODEL_NAME}"
      ],
      "metadata": {
        "id": "m7X7gXrEvHA8"
      },
      "execution_count": null,
      "outputs": []
    },
    {
      "cell_type": "markdown",
      "source": [
        "## Connect to the hosted model from Earth Engine"
      ],
      "metadata": {
        "id": "1nk6f0Dk24VA"
      }
    },
    {
      "cell_type": "code",
      "source": [
        "print('Prediction link:')\n",
        "print(f'https://code.earthengine.google.com/690804542fb5e64fb4f04e625a1a363f#project={PROJECT};endpoint={ENDPOINT_ID}foo;')"
      ],
      "metadata": {
        "id": "xWlC9VRNQqjR"
      },
      "execution_count": null,
      "outputs": []
    },
    {
      "cell_type": "markdown",
      "source": [
        "## Clean up\n",
        "\n",
        "To avoid incurring costs, delete all buckets, models and endpoints created through this tutorial."
      ],
      "metadata": {
        "id": "DzlzR90iS8Ws"
      }
    }
  ]
}